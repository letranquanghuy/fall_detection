{
  "cells": [
    {
      "cell_type": "code",
      "execution_count": 11,
      "metadata": {
        "colab": {
          "base_uri": "https://localhost:8080/"
        },
        "id": "bfwvuhQ5Klst",
        "outputId": "c04c1822-0b08-4a08-e10c-c9810fd75385"
      },
      "outputs": [
        {
          "output_type": "stream",
          "name": "stdout",
          "text": [
            "Drive already mounted at /content/drive; to attempt to forcibly remount, call drive.mount(\"/content/drive\", force_remount=True).\n"
          ]
        }
      ],
      "source": [
        "from google.colab import drive\n",
        "drive.mount('/content/drive')"
      ]
    },
    {
      "cell_type": "code",
      "source": [
        "!pip install tensorflow==2.10"
      ],
      "metadata": {
        "id": "uWCsqgwLBnyC"
      },
      "execution_count": null,
      "outputs": []
    },
    {
      "cell_type": "code",
      "source": [
        "!pip show tensorflow"
      ],
      "metadata": {
        "colab": {
          "base_uri": "https://localhost:8080/"
        },
        "id": "7-Gy-uNkHfVl",
        "outputId": "0adfcccc-100b-4464-83d1-f6ee4bc5f3d6"
      },
      "execution_count": 12,
      "outputs": [
        {
          "output_type": "stream",
          "name": "stdout",
          "text": [
            "Name: tensorflow\n",
            "Version: 2.10.0\n",
            "Summary: TensorFlow is an open source machine learning framework for everyone.\n",
            "Home-page: https://www.tensorflow.org/\n",
            "Author: Google Inc.\n",
            "Author-email: packages@tensorflow.org\n",
            "License: Apache 2.0\n",
            "Location: /usr/local/lib/python3.10/dist-packages\n",
            "Requires: absl-py, astunparse, flatbuffers, gast, google-pasta, grpcio, h5py, keras, keras-preprocessing, libclang, numpy, opt-einsum, packaging, protobuf, setuptools, six, tensorboard, tensorflow-estimator, tensorflow-io-gcs-filesystem, termcolor, typing-extensions, wrapt\n",
            "Required-by: dopamine-rl\n"
          ]
        }
      ]
    },
    {
      "cell_type": "code",
      "execution_count": 3,
      "metadata": {
        "id": "LN-Z09z7mmbJ"
      },
      "outputs": [],
      "source": [
        "import numpy as np\n",
        "import pandas as pd\n",
        "import os\n",
        "import re  # regex\n",
        "import matplotlib.pyplot as plt\n",
        "from IPython import display\n",
        "from struct import unpack\n",
        "from datetime import datetime\n",
        "from keras.layers import LSTM, Dense,Dropout\n",
        "from keras.models import Sequential\n",
        "\n",
        "from sklearn.model_selection import train_test_split\n",
        "from sklearn.utils import shuffle\n",
        "\n",
        "import tensorflow as tf\n",
        "from tensorflow import keras\n",
        "import math\n",
        "import timeit\n",
        "import glob\n",
        "from sklearn.utils import shuffle\n",
        "from sklearn.model_selection import train_test_split\n",
        "import cv2\n",
        "import pickle\n",
        "import glob2\n",
        "%matplotlib inline"
      ]
    },
    {
      "cell_type": "code",
      "execution_count": 4,
      "metadata": {
        "colab": {
          "base_uri": "https://localhost:8080/"
        },
        "id": "_G8KJozom1Cd",
        "outputId": "b00d6422-b957-4cac-8eae-db3498619ea2"
      },
      "outputs": [
        {
          "output_type": "stream",
          "name": "stdout",
          "text": [
            "(31520, 10, 52) (31520, 2)\n",
            "X_train.shape = (22064, 10, 52)\n",
            "y_train.shape = (22064, 2)\n",
            "X_val.shape = (3152, 10, 52)\n",
            "y_val.shape = (3152, 2)\n",
            "X_test.shape = (6304, 10, 52)\n",
            "y_test.shape = (6304, 2)\n"
          ]
        }
      ],
      "source": [
        "# Đọc dữ liệu\n",
        "fall_dataset = pd.read_csv(\"/content/drive/MyDrive/Fall_detection/LSTM/FALL.txt\")\n",
        "not_fall_dataset = pd.read_csv(\"/content/drive/MyDrive/Fall_detection/LSTM/NOT_FALL.txt\")\n",
        "\n",
        "X = []\n",
        "y = []\n",
        "no_of_timesteps = 10\n",
        "\n",
        "\n",
        "not_fall_data = not_fall_dataset.iloc[:,1:].values\n",
        "n_sample = len(not_fall_data)\n",
        "for i in range(no_of_timesteps, n_sample):\n",
        "    X.append(not_fall_data[i-no_of_timesteps:i,:])\n",
        "    y.append([1,0])\n",
        "\n",
        "fall_data = fall_dataset.iloc[:,1:].values\n",
        "n_sample = len(fall_data)\n",
        "for i in range(no_of_timesteps, n_sample):\n",
        "    X.append(fall_data[i-no_of_timesteps:i,:])\n",
        "    y.append([0,1])\n",
        "\n",
        "\n",
        "X, y = np.array(X), np.array(y)\n",
        "print(X.shape, y.shape)\n",
        "\n",
        "X_train, X_test, y_train, y_test = train_test_split(X, y, test_size=0.2)\n",
        "X_train, X_val, y_train, y_val = train_test_split(X_train, y_train, test_size=0.125)\n",
        "\n",
        "print(\"X_train.shape = {}\".format(X_train.shape))\n",
        "print(\"y_train.shape = {}\".format(y_train.shape))\n",
        "print(\"X_val.shape = {}\".format(X_val.shape))\n",
        "print(\"y_val.shape = {}\".format(y_val.shape))\n",
        "print(\"X_test.shape = {}\".format(X_test.shape))\n",
        "print(\"y_test.shape = {}\".format(y_test.shape))"
      ]
    },
    {
      "cell_type": "code",
      "execution_count": 5,
      "metadata": {
        "id": "e2v4o-OQp3a2"
      },
      "outputs": [],
      "source": [
        "METRICS = [\n",
        "      keras.metrics.TruePositives(name='tp'),\n",
        "      keras.metrics.FalsePositives(name='fp'),\n",
        "      # keras.metrics.TrueNegatives(name='tn'),\n",
        "      keras.metrics.FalseNegatives(name='fn'),\n",
        "      keras.metrics.BinaryAccuracy(name='accuracy'),\n",
        "      keras.metrics.Precision(name='precision'),\n",
        "      keras.metrics.Recall(name='recall'),\n",
        "      keras.metrics.AUC(name='auc'),\n",
        "]\n",
        "\n",
        "def custom_optimizer_init_fn():\n",
        "    learning_rate = 1e-5\n",
        "    return tf.keras.optimizers.Adam(learning_rate)"
      ]
    },
    {
      "cell_type": "code",
      "source": [
        "print((X.shape[1], X.shape[2]))"
      ],
      "metadata": {
        "colab": {
          "base_uri": "https://localhost:8080/"
        },
        "id": "dQMQa72DDpKq",
        "outputId": "4433f932-f273-47f1-ea4f-4faf8bf0c56c"
      },
      "execution_count": 6,
      "outputs": [
        {
          "output_type": "stream",
          "name": "stdout",
          "text": [
            "(10, 52)\n"
          ]
        }
      ]
    },
    {
      "cell_type": "code",
      "execution_count": 7,
      "metadata": {
        "colab": {
          "base_uri": "https://localhost:8080/"
        },
        "id": "voFD0rjUm3TC",
        "outputId": "4eeb84b4-99ce-4625-acfa-4fb73d83e6c8"
      },
      "outputs": [
        {
          "output_type": "stream",
          "name": "stdout",
          "text": [
            "Model: \"sequential\"\n",
            "_________________________________________________________________\n",
            " Layer (type)                Output Shape              Param #   \n",
            "=================================================================\n",
            " lstm (LSTM)                 (None, 10, 256)           316416    \n",
            "                                                                 \n",
            " dropout (Dropout)           (None, 10, 256)           0         \n",
            "                                                                 \n",
            " lstm_1 (LSTM)               (None, 10, 128)           197120    \n",
            "                                                                 \n",
            " dropout_1 (Dropout)         (None, 10, 128)           0         \n",
            "                                                                 \n",
            " lstm_2 (LSTM)               (None, 10, 50)            35800     \n",
            "                                                                 \n",
            " dropout_2 (Dropout)         (None, 10, 50)            0         \n",
            "                                                                 \n",
            " lstm_3 (LSTM)               (None, 50)                20200     \n",
            "                                                                 \n",
            " dropout_3 (Dropout)         (None, 50)                0         \n",
            "                                                                 \n",
            " dense (Dense)               (None, 10)                510       \n",
            "                                                                 \n",
            " dense_1 (Dense)             (None, 2)                 22        \n",
            "                                                                 \n",
            "=================================================================\n",
            "Total params: 570,068\n",
            "Trainable params: 570,068\n",
            "Non-trainable params: 0\n",
            "_________________________________________________________________\n",
            "Epoch 1/10\n",
            "45/45 [==============================] - 29s 105ms/step - loss: 0.7009 - tp: 10706.0000 - fp: 11358.0000 - fn: 11358.0000 - accuracy: 0.4852 - precision: 0.4852 - recall: 0.4852 - auc: 0.5374 - val_loss: 0.7008 - val_tp: 1500.0000 - val_fp: 1652.0000 - val_fn: 1652.0000 - val_accuracy: 0.4759 - val_precision: 0.4759 - val_recall: 0.4759 - val_auc: 0.5802\n",
            "Epoch 2/10\n",
            "45/45 [==============================] - 1s 26ms/step - loss: 0.6983 - tp: 10706.0000 - fp: 11358.0000 - fn: 11358.0000 - accuracy: 0.4852 - precision: 0.4852 - recall: 0.4852 - auc: 0.6029 - val_loss: 0.6978 - val_tp: 1500.0000 - val_fp: 1652.0000 - val_fn: 1652.0000 - val_accuracy: 0.4759 - val_precision: 0.4759 - val_recall: 0.4759 - val_auc: 0.6846\n",
            "Epoch 3/10\n",
            "45/45 [==============================] - 1s 27ms/step - loss: 0.6953 - tp: 10706.0000 - fp: 11358.0000 - fn: 11358.0000 - accuracy: 0.4852 - precision: 0.4852 - recall: 0.4852 - auc: 0.6440 - val_loss: 0.6940 - val_tp: 1500.0000 - val_fp: 1652.0000 - val_fn: 1652.0000 - val_accuracy: 0.4759 - val_precision: 0.4759 - val_recall: 0.4759 - val_auc: 0.7008\n",
            "Epoch 4/10\n",
            "45/45 [==============================] - 1s 25ms/step - loss: 0.6912 - tp: 10706.0000 - fp: 11358.0000 - fn: 11358.0000 - accuracy: 0.4852 - precision: 0.4852 - recall: 0.4852 - auc: 0.6710 - val_loss: 0.6888 - val_tp: 1500.0000 - val_fp: 1652.0000 - val_fn: 1652.0000 - val_accuracy: 0.4759 - val_precision: 0.4759 - val_recall: 0.4759 - val_auc: 0.7020\n",
            "Epoch 5/10\n",
            "45/45 [==============================] - 1s 14ms/step - loss: 0.6852 - tp: 11508.0000 - fp: 10556.0000 - fn: 10556.0000 - accuracy: 0.5216 - precision: 0.5216 - recall: 0.5216 - auc: 0.6987 - val_loss: 0.6808 - val_tp: 1861.0000 - val_fp: 1291.0000 - val_fn: 1291.0000 - val_accuracy: 0.5904 - val_precision: 0.5904 - val_recall: 0.5904 - val_auc: 0.7341\n",
            "Epoch 6/10\n",
            "45/45 [==============================] - 1s 15ms/step - loss: 0.6751 - tp: 15672.0000 - fp: 6392.0000 - fn: 6392.0000 - accuracy: 0.7103 - precision: 0.7103 - recall: 0.7103 - auc: 0.8130 - val_loss: 0.6667 - val_tp: 2608.0000 - val_fp: 544.0000 - val_fn: 544.0000 - val_accuracy: 0.8274 - val_precision: 0.8274 - val_recall: 0.8274 - val_auc: 0.8909\n",
            "Epoch 7/10\n",
            "45/45 [==============================] - 1s 19ms/step - loss: 0.6575 - tp: 18443.0000 - fp: 3621.0000 - fn: 3621.0000 - accuracy: 0.8359 - precision: 0.8359 - recall: 0.8359 - auc: 0.9022 - val_loss: 0.6426 - val_tp: 2782.0000 - val_fp: 370.0000 - val_fn: 370.0000 - val_accuracy: 0.8826 - val_precision: 0.8826 - val_recall: 0.8826 - val_auc: 0.9368\n",
            "Epoch 8/10\n",
            "45/45 [==============================] - 1s 21ms/step - loss: 0.6300 - tp: 19629.0000 - fp: 2435.0000 - fn: 2435.0000 - accuracy: 0.8896 - precision: 0.8896 - recall: 0.8896 - auc: 0.9398 - val_loss: 0.6093 - val_tp: 2831.0000 - val_fp: 321.0000 - val_fn: 321.0000 - val_accuracy: 0.8982 - val_precision: 0.8982 - val_recall: 0.8982 - val_auc: 0.9569\n",
            "Epoch 9/10\n",
            "45/45 [==============================] - 1s 21ms/step - loss: 0.5967 - tp: 20013.0000 - fp: 2051.0000 - fn: 2051.0000 - accuracy: 0.9070 - precision: 0.9070 - recall: 0.9070 - auc: 0.9564 - val_loss: 0.5735 - val_tp: 2889.0000 - val_fp: 263.0000 - val_fn: 263.0000 - val_accuracy: 0.9166 - val_precision: 0.9166 - val_recall: 0.9166 - val_auc: 0.9719\n",
            "Epoch 10/10\n",
            "45/45 [==============================] - 1s 20ms/step - loss: 0.5638 - tp: 20392.0000 - fp: 1672.0000 - fn: 1672.0000 - accuracy: 0.9242 - precision: 0.9242 - recall: 0.9242 - auc: 0.9687 - val_loss: 0.5406 - val_tp: 2962.0000 - val_fp: 190.0000 - val_fn: 190.0000 - val_accuracy: 0.9397 - val_precision: 0.9397 - val_recall: 0.9397 - val_auc: 0.9784\n"
          ]
        }
      ],
      "source": [
        "model  = Sequential()\n",
        "model.add(LSTM(units = 256, return_sequences = True, input_shape = (X.shape[1], X.shape[2])))\n",
        "model.add(Dropout(0.2))\n",
        "model.add(LSTM(units = 128, return_sequences = True))\n",
        "model.add(Dropout(0.2))\n",
        "model.add(LSTM(units = 50, return_sequences = True))\n",
        "model.add(Dropout(0.2))\n",
        "model.add(LSTM(units = 50))\n",
        "model.add(Dropout(0.2))\n",
        "model.add(Dense(units = 10, activation=\"sigmoid\"))\n",
        "model.add(Dense(units = 2, activation=\"softmax\"))\n",
        "optimize = custom_optimizer_init_fn()\n",
        "# model.compile(optimizer=optimize, metrics = ['accuracy'], loss = \"binary_crossentropy\")\n",
        "model.compile(optimizer=optimize, metrics = METRICS, loss = \"binary_crossentropy\")\n",
        "model.summary ()\n",
        "# model.fit(X_train, y_train, epochs=150, batch_size=300, validation_data=(X_test, y_test))\n",
        "batch_size = 500\n",
        "epochs = 10\n",
        "history = model.fit(X_train, y_train, batch_size=batch_size, epochs=epochs, validation_data=(X_val, y_val))\n",
        "model.save(\"/content/drive/MyDrive/Fall_detection/LSTM/model_10_new.h5\")"
      ]
    },
    {
      "cell_type": "code",
      "source": [
        "from tensorflow import keras\n",
        "import tensorflow as tf\n",
        "from tensorflow.python.framework.convert_to_constants import convert_variables_to_constants_v2\n",
        "import numpy as np\n",
        "\n",
        "# Convert Keras model to ConcreteFunction\n",
        "full_model = tf.function(lambda x: model(x))\n",
        "full_model = full_model.get_concrete_function(\n",
        "    tf.TensorSpec(model.inputs[0].shape, model.inputs[0].dtype))\n",
        "\n",
        "# Get frozen ConcreteFunction\n",
        "frozen_func = convert_variables_to_constants_v2(full_model)\n",
        "frozen_func.graph.as_graph_def()\n",
        "\n",
        "\n",
        "# Save frozen graph from frozen ConcreteFunction to hard drive\n",
        "tf.io.write_graph(graph_or_graph_def=frozen_func.graph,\n",
        "                  logdir=\"./frozen_models\",\n",
        "                  name=\"frozen_graph.pb\",\n",
        "                  as_text=False)"
      ],
      "metadata": {
        "colab": {
          "base_uri": "https://localhost:8080/",
          "height": 36
        },
        "id": "XvsztvAWCTvI",
        "outputId": "a3365534-5ef4-4574-f595-6078e96d1e2a"
      },
      "execution_count": 13,
      "outputs": [
        {
          "output_type": "execute_result",
          "data": {
            "text/plain": [
              "'./frozen_models/frozen_graph.pb'"
            ],
            "application/vnd.google.colaboratory.intrinsic+json": {
              "type": "string"
            }
          },
          "metadata": {},
          "execution_count": 13
        }
      ]
    },
    {
      "cell_type": "code",
      "source": [
        "import tensorflow as tf\n",
        "from tensorflow import keras\n",
        "import numpy as np\n",
        "\n",
        "\n",
        "def get_fashion_mnist_data():\n",
        "\n",
        "    fashion_mnist = keras.datasets.fashion_mnist\n",
        "    (train_images, train_labels), (test_images,\n",
        "                                   test_labels) = fashion_mnist.load_data()\n",
        "    class_names = [\n",
        "        \"T-shirt/top\", \"Trouser\", \"Pullover\", \"Dress\", \"Coat\", \"Sandal\",\n",
        "        \"Shirt\", \"Sneaker\", \"Bag\", \"Ankle boot\"\n",
        "    ]\n",
        "    train_images = train_images.astype(np.float32) / 255.0\n",
        "    test_images = test_images.astype(np.float32) / 255.0\n",
        "\n",
        "    return (train_images, train_labels), (test_images, test_labels)\n",
        "\n",
        "\n",
        "def wrap_frozen_graph(graph_def, inputs, outputs, print_graph=False):\n",
        "    def _imports_graph_def():\n",
        "        tf.compat.v1.import_graph_def(graph_def, name=\"\")\n",
        "\n",
        "    wrapped_import = tf.compat.v1.wrap_function(_imports_graph_def, [])\n",
        "    import_graph = wrapped_import.graph\n",
        "\n",
        "    if print_graph == True:\n",
        "        print(\"-\" * 50)\n",
        "        print(\"Frozen model layers: \")\n",
        "        layers = [op.name for op in import_graph.get_operations()]\n",
        "        for layer in layers:\n",
        "            print(layer)\n",
        "        print(\"-\" * 50)\n",
        "\n",
        "    return wrapped_import.prune(\n",
        "        tf.nest.map_structure(import_graph.as_graph_element, inputs),\n",
        "        tf.nest.map_structure(import_graph.as_graph_element, outputs))"
      ],
      "metadata": {
        "id": "qq57_WJ9G4wg"
      },
      "execution_count": 17,
      "outputs": []
    },
    {
      "cell_type": "code",
      "source": [
        "# Save frozen graph from frozen ConcreteFunction to hard drive\n",
        "tf.io.write_graph(graph_or_graph_def=frozen_func.graph,\n",
        "                    logdir=\"./frozen_models\",\n",
        "                    name=\"complex_frozen_graph.pb\",\n",
        "                    as_text=False)\n",
        "\n",
        "# Load frozen graph using TensorFlow 1.x functions\n",
        "with tf.io.gfile.GFile(\"/content/frozen_models/frozen_graph.pb\", \"rb\") as f:\n",
        "    graph_def = tf.compat.v1.GraphDef()\n",
        "    loaded = graph_def.ParseFromString(f.read())\n",
        "\n",
        "# Wrap frozen graph to ConcreteFunctions\n",
        "frozen_func = wrap_frozen_graph(graph_def=graph_def,\n",
        "                                inputs=[\"x:0\"],\n",
        "                                outputs=[\"Identity:0\"],\n",
        "                                print_graph=True)"
      ],
      "metadata": {
        "id": "d7MlaOISGhGu"
      },
      "execution_count": null,
      "outputs": []
    },
    {
      "cell_type": "code",
      "source": [
        "import time\n",
        "start = time.time()\n",
        "i = 80\n",
        "input_predict = 1*X_test[i]\n",
        "input_predict_expand = input_predict[np.newaxis,...]\n",
        "input_predict_expand = np.array(input_predict_expand,np.float32)\n",
        "predicted_class = model.predict(input_predict_expand)\n",
        "print(\"predicted_class\", predicted_class)\n",
        "print(time.time()-start)\n",
        "start = time.time()\n",
        "i = 80\n",
        "input_predict = 1*X_test[i]\n",
        "input_predict_expand = input_predict[np.newaxis,...]\n",
        "input_predict_expand = np.array(input_predict_expand,np.float32)\n",
        "# Get predictions for test images\n",
        "frozen_graph_predictions = frozen_func(x=tf.constant(input_predict_expand))[0]\n",
        "\n",
        "# Print the prediction for the first image\n",
        "print(frozen_graph_predictions[0].numpy())\n",
        "print(time.time()-start)\n"
      ],
      "metadata": {
        "colab": {
          "base_uri": "https://localhost:8080/"
        },
        "id": "EvJx6Hj4HdK3",
        "outputId": "45738fcd-0d90-4cfb-afb7-5911637d567e"
      },
      "execution_count": 24,
      "outputs": [
        {
          "output_type": "stream",
          "name": "stdout",
          "text": [
            "1/1 [==============================] - 0s 36ms/step\n",
            "predicted_class [[0.69901884 0.30098113]]\n",
            "0.09092998504638672\n",
            "[0.69901884 0.30098113]\n",
            "0.01273965835571289\n"
          ]
        }
      ]
    },
    {
      "cell_type": "code",
      "execution_count": null,
      "metadata": {
        "colab": {
          "base_uri": "https://localhost:8080/",
          "height": 516
        },
        "id": "bW6RTdWeVxFT",
        "outputId": "d9b712ff-928e-4d08-a448-511f8c74edf8"
      },
      "outputs": [
        {
          "output_type": "stream",
          "name": "stdout",
          "text": [
            "Done!\n"
          ]
        },
        {
          "output_type": "display_data",
          "data": {
            "text/plain": [
              "<Figure size 1152x576 with 2 Axes>"
            ],
            "image/png": "[encoded data removed]"
          },
          "metadata": {
            "needs_background": "light"
          }
        }
      ],
      "source": [
        "\n",
        "print('Done!')\n",
        "acc = history.history['accuracy']\n",
        "val_acc = history.history['val_accuracy']\n",
        "\n",
        "loss = history.history['loss']\n",
        "val_loss = history.history['val_loss']\n",
        "\n",
        "epochs_range = range(epochs)\n",
        "\n",
        "plt.figure(figsize=(16, 8))\n",
        "plt.subplot(1, 2, 1)\n",
        "plt.plot(epochs_range, acc, label='Training Accuracy')\n",
        "plt.plot(epochs_range, val_acc, label='Validation Accuracy')\n",
        "plt.legend(loc='lower right')\n",
        "plt.title('Training and Validation Accuracy')\n",
        "\n",
        "plt.subplot(1, 2, 2)\n",
        "plt.plot(epochs_range, loss, label='Training Loss')\n",
        "plt.plot(epochs_range, val_loss, label='Validation Loss')\n",
        "plt.legend(loc='upper right')\n",
        "plt.title('Training and Validation Loss')\n",
        "plt.show()"
      ]
    },
    {
      "cell_type": "code",
      "execution_count": null,
      "metadata": {
        "id": "7TF5HRQ7W5QR"
      },
      "outputs": [],
      "source": [
        "# list of colors for plotting\n",
        "COLOR_LIST = ['#ff7f0e', '#2ca02c', '#d62728', '#9467bd', '#8c564b', '#e377c2', '#7f7f7f', '#bcbd22', '#17becf', '#1f77b4', '#58e03d']"
      ]
    },
    {
      "cell_type": "code",
      "source": [
        "def plot_distribution(data_y_train, data_y_val, data_y_test):\n",
        "    \"\"\"\n",
        "    Plot data distribution for training and test set\n",
        "    :param np_array<int>[n,] data_y_train: labels of training set\n",
        "    :param np_array<int>[n,] data_y_test: labels of test set\n",
        "    :return: None\n",
        "    \"\"\"\n",
        "\n",
        "    # setup figure & axes\n",
        "    subplot_kw=dict(xlabel='Label', ylabel='Count', ylim=(0, 12500))\n",
        "    gridspec_kw=dict(left=0, right=1, top=1, bottom=0, hspace=0.1)\n",
        "    fig, axes = plt.subplots(nrows=1, ncols=3, subplot_kw=subplot_kw, gridspec_kw=gridspec_kw, figsize=(14, 4))\n",
        "\n",
        "    # plot distribution for training set\n",
        "    count1 = 0\n",
        "    count0 = 0\n",
        "    for el in data_y_train:\n",
        "      if el[0] == 0:\n",
        "        count1 +=1\n",
        "      else:\n",
        "        count0 += 1\n",
        "    print(\"Number of data FALL in TRAINING SET:\", count1)\n",
        "    print(\"Number of data NOT FALL in TRAINING SET:\", count0)\n",
        "    print(\"--------------------------------------------------\")\n",
        "    axes[0].bar([\"NOT FALL\", \"FALL\"], [count0, count1], color=COLOR_LIST)\n",
        "    axes[0].set_title('Training Set')\n",
        "\n",
        "    # plot distribution for validation set\n",
        "    count1 = 0\n",
        "    count0 = 0\n",
        "    for el in data_y_val:\n",
        "      if el[0] == 0:\n",
        "        count1 +=1\n",
        "      else:\n",
        "        count0 += 1\n",
        "    print(\"Number of data FALL in VALIDATION SET:\", count1)\n",
        "    print(\"Number of data NOT FALL in VALIDATION SET:\", count0)\n",
        "    print(\"--------------------------------------------------\")\n",
        "    axes[1].bar([\"NOT FALL\", \"FALL\"], [count0, count1], color=COLOR_LIST)\n",
        "    axes[1].set_title('Validation Set')\n",
        "\n",
        "    # plot distribution for test set\n",
        "    count1 = 0\n",
        "    count0 = 0\n",
        "    for el in data_y_test:\n",
        "      if el[0] == 0:\n",
        "        count1 +=1\n",
        "      else:\n",
        "        count0 += 1\n",
        "    print(\"Number of data FALL in TEST SET:\", count1)\n",
        "    print(\"Number of data NOT FALL in TEST SET:\", count0)\n",
        "    unique_list, count_list = np.unique(data_y_test, return_counts=True)\n",
        "    axes[2].bar([\"NOT FALL\", \"FALL\"], [count0, count1], color=COLOR_LIST)\n",
        "    axes[2].set_title('Test Set')\n",
        "    plt.show()"
      ],
      "metadata": {
        "id": "8flQT6bVOcPI"
      },
      "execution_count": null,
      "outputs": []
    },
    {
      "cell_type": "code",
      "source": [
        "plot_distribution(y_train, y_val, y_test)"
      ],
      "metadata": {
        "colab": {
          "base_uri": "https://localhost:8080/",
          "height": 505
        },
        "id": "SypQkFgdOxpB",
        "outputId": "37201803-2208-458b-9417-ea565d07e9f8"
      },
      "execution_count": null,
      "outputs": [
        {
          "output_type": "stream",
          "name": "stdout",
          "text": [
            "Number of data FALL in TRAINING SET: 11352\n",
            "Number of data NOT FALL in TRAINING SET: 10712\n",
            "--------------------------------------------------\n",
            "Number of data FALL in VALIDATION SET: 1651\n",
            "Number of data NOT FALL in VALIDATION SET: 1501\n",
            "--------------------------------------------------\n",
            "Number of data FALL in TEST SET: 3197\n",
            "Number of data NOT FALL in TEST SET: 3107\n"
          ]
        },
        {
          "output_type": "display_data",
          "data": {
            "text/plain": [
              "<Figure size 1008x288 with 3 Axes>"
            ],
            "image/png": "[encoded data removed]"
          },
          "metadata": {
            "needs_background": "light"
          }
        }
      ]
    },
    {
      "cell_type": "code",
      "source": [
        "model = tf.keras.models.load_model('/content/drive/MyDrive/Fall_detection/LSTM/model_10.h5')\n"
      ],
      "metadata": {
        "id": "QdcOp3WNUM5i"
      },
      "execution_count": null,
      "outputs": []
    },
    {
      "cell_type": "code",
      "source": [
        "i = 80\n",
        "input_predict = 1*X_test[i]\n",
        "input_predict_expand = input_predict[np.newaxis,...]\n",
        "input_predict_expand = np.array(input_predict_expand,np.float32)\n",
        "predicted_class = model.predict(input_predict_expand)\n",
        "print(\"predicted_class\", np.argmax(predicted_class))\n",
        "print(\"y_test\", y_test[i])\n",
        "\n",
        "print(input_predict)\n",
        "print(input_predict_expand)"
      ],
      "metadata": {
        "colab": {
          "base_uri": "https://localhost:8080/"
        },
        "id": "B_-LeNOdVV5B",
        "outputId": "a32b506c-4ce5-4965-ef3a-62e78335fac4"
      },
      "execution_count": 16,
      "outputs": [
        {
          "output_type": "stream",
          "name": "stdout",
          "text": [
            "1/1 [==============================] - 0s 36ms/step\n",
            "predicted_class 0\n",
            "y_test [1 0]\n",
            "[[ 0.45040244  0.12683667 -0.23346505  0.9998793   0.51102424  0.21840112\n",
            "  -0.18274941  0.99999589  0.43523711  0.22252528  0.04713761  0.99933529\n",
            "   0.52633607  0.37399122 -0.1789006   0.99761885  0.43041959  0.36915529\n",
            "   0.12900609  0.13864078  0.52016419  0.51509851 -0.22828415  0.99300921\n",
            "   0.41074777  0.48362523  0.03764508  0.32151592  0.49532166  0.51375496\n",
            "  -0.07478383  0.99986529  0.44875723  0.51041967  0.07488959  0.9993735\n",
            "   0.50171477  0.70833474 -0.10873123  0.99127328  0.44832665  0.68976635\n",
            "   0.17503829  0.88526219  0.50045907  0.90495574 -0.02245915  0.98526186\n",
            "   0.45790726  0.84451991  0.37922615  0.92766619]\n",
            " [ 0.45234817  0.12724455 -0.22908473  0.99988788  0.51164514  0.22065619\n",
            "  -0.15687872  0.99999607  0.42641583  0.23296642  0.04008861  0.99937946\n",
            "   0.52901208  0.37254903 -0.14996196  0.99768454  0.42492741  0.37370831\n",
            "   0.11118631  0.17211299  0.52345663  0.51262856 -0.21715395  0.99320233\n",
            "   0.40776062  0.4843697   0.02090309  0.36414251  0.49607903  0.51441979\n",
            "  -0.06913358  0.99986875  0.44778079  0.51185995  0.06927744  0.99939632\n",
            "   0.50259173  0.70844918 -0.10712514  0.99175692  0.44806784  0.68986863\n",
            "   0.17023489  0.8884173   0.50037086  0.90511101 -0.02272543  0.98502803\n",
            "   0.45786697  0.84462601  0.37369233  0.92849636]\n",
            " [ 0.45275927  0.12757553 -0.23028342  0.99989665  0.51178044  0.22272269\n",
            "  -0.14453991  0.99999624  0.42076141  0.23823558  0.03008353  0.99942404\n",
            "   0.53029782  0.37143484 -0.13466524  0.99771643  0.41982189  0.37922037\n",
            "   0.09586217  0.20831767  0.52505398  0.51090366 -0.21028748  0.99323535\n",
            "   0.40671554  0.4869698   0.00570241  0.40474731  0.49609447  0.51442885\n",
            "  -0.06425434  0.99987358  0.44570199  0.51248908  0.06439461  0.99942172\n",
            "   0.5033654   0.70792568 -0.10654537  0.99222004  0.44729647  0.6900484\n",
            "   0.163645    0.8943159   0.50035292  0.90456432 -0.02847382  0.98537004\n",
            "   0.45774359  0.84470171  0.37032926  0.93089008]\n",
            " [ 0.45334148  0.12770478 -0.23461244  0.99990445  0.5117541   0.22404836\n",
            "  -0.13335893  0.99999636  0.4152588   0.24299458  0.00931617  0.99947\n",
            "   0.53131735  0.36905217 -0.11676717  0.99763501  0.41507936  0.38359624\n",
            "   0.07142617  0.25719965  0.52658218  0.50634032 -0.20485792  0.99278933\n",
            "   0.40414301  0.48880157 -0.02241907  0.4485817   0.49653274  0.51459527\n",
            "  -0.0585558   0.99987674  0.44391125  0.51513225  0.05872117  0.99943918\n",
            "   0.50402069  0.70804262 -0.10385178  0.99273574  0.44683844  0.69212848\n",
            "   0.17299607  0.90007228  0.50029743  0.90458977 -0.03105254  0.98583966\n",
            "   0.45818758  0.84499764  0.3850159   0.93269306]\n",
            " [ 0.45368791  0.1294443  -0.26344359  0.99991161  0.51219773  0.22583172\n",
            "  -0.14462017  0.99999642  0.41328582  0.2455093  -0.02756226  0.99951267\n",
            "   0.53281492  0.36817259 -0.11906491  0.99752462  0.41259879  0.38540977\n",
            "   0.03530119  0.30819133  0.53042781  0.49979538 -0.20690446  0.99212879\n",
            "   0.40364647  0.49235195 -0.05419235  0.48843133  0.49782649  0.51406342\n",
            "  -0.05333973  0.99987513  0.44364709  0.51542246  0.05348333  0.99944335\n",
            "   0.50435889  0.70600522 -0.09500555  0.99300599  0.44619864  0.69211072\n",
            "   0.16126461  0.90380967  0.50028116  0.90424305 -0.02691673  0.98584342\n",
            "   0.45889908  0.84501803  0.3585411   0.93294924]\n",
            " [ 0.4551273   0.1312485  -0.28711826  0.99991763  0.51240182  0.22743149\n",
            "  -0.15393701  0.99999619  0.41224083  0.24835716 -0.05468144  0.99954879\n",
            "   0.53402984  0.36810035 -0.11546703  0.99732536  0.4102467   0.38853475\n",
            "   0.00860445  0.35384637  0.53274912  0.49794766 -0.19220175  0.99100679\n",
            "   0.40231094  0.49969471 -0.07877289  0.52040339  0.49875236  0.51643568\n",
            "  -0.04882795  0.99986732  0.44356975  0.51979482  0.04898651  0.99943131\n",
            "   0.50426626  0.70622718 -0.0666886   0.99340469  0.44514698  0.69207543\n",
            "   0.16579202  0.90813887  0.50002158  0.90303701  0.01053426  0.98597252\n",
            "   0.45904046  0.84581858  0.36812052  0.93442762]\n",
            " [ 0.45513567  0.13304861 -0.30651391  0.99992204  0.51237315  0.22784434\n",
            "  -0.15482116  0.99999565  0.41095501  0.2476624  -0.07601527  0.99958271\n",
            "   0.53421724  0.36622044 -0.11306409  0.9969542   0.40784723  0.38782504\n",
            "  -0.01217947  0.39918679  0.53497052  0.49151358 -0.19823079  0.98968172\n",
            "   0.40038076  0.50084436 -0.10265447  0.55285531  0.49993247  0.5165959\n",
            "  -0.04058199  0.9998641   0.44364396  0.52067471  0.04069927  0.99943697\n",
            "   0.50406432  0.70590186 -0.05094602  0.99385238  0.44305769  0.69209468\n",
            "   0.16350563  0.91442835  0.49995756  0.89857823  0.04572077  0.98667026\n",
            "   0.45900646  0.84594929  0.3762359   0.93835938]\n",
            " [ 0.45491523  0.13351071 -0.31740502  0.99992514  0.51238811  0.22804636\n",
            "  -0.15361837  0.99999493  0.40976244  0.24902706 -0.08752491  0.99961179\n",
            "   0.53618491  0.36193034 -0.10894243  0.99653637  0.40541798  0.38756099\n",
            "  -0.02367172  0.44260359  0.53830254  0.4868443  -0.2005316   0.98858547\n",
            "   0.39928484  0.50467658 -0.11385413  0.58381814  0.50168765  0.51892734\n",
            "  -0.03479131  0.99986011  0.44381371  0.52400833  0.03485345  0.9994418\n",
            "   0.50384742  0.70781893 -0.03653092  0.99414152  0.44211459  0.69218153\n",
            "   0.14458568  0.9198758   0.49994364  0.89352602  0.1060248   0.986996\n",
            "   0.45906743  0.84578079  0.37977505  0.9413355 ]\n",
            " [ 0.45497838  0.13442408 -0.33738467  0.9999277   0.51232421  0.22850922\n",
            "  -0.14824083  0.99999273  0.40928322  0.24971233 -0.12137     0.99963927\n",
            "   0.53717309  0.36006424 -0.08523174  0.99551523  0.4034279   0.3875294\n",
            "  -0.06225371  0.48987079  0.54159099  0.48280653 -0.16988122  0.98671341\n",
            "   0.39888626  0.50614381 -0.14393251  0.61678934  0.50318491  0.51892197\n",
            "  -0.01999754  0.99984848  0.44366854  0.52506196  0.01999512  0.99944144\n",
            "   0.50377613  0.7077744  -0.01470961  0.9940713   0.44150424  0.69235545\n",
            "   0.10776241  0.92583901  0.50065607  0.8918795   0.13389415  0.98725182\n",
            "   0.45926219  0.84579241  0.33129862  0.94461036]\n",
            " [ 0.45548815  0.13382363 -0.35581991  0.99992883  0.51233953  0.22880064\n",
            "  -0.14942537  0.99998802  0.40931171  0.24990448 -0.15278861  0.99966186\n",
            "   0.53721249  0.3581529  -0.08254857  0.99340326  0.40279776  0.3885254\n",
            "  -0.10220989  0.53433728  0.54261339  0.48191991 -0.16209838  0.98292798\n",
            "   0.39741933  0.50923443 -0.174404    0.64497697  0.50476986  0.51851445\n",
            "  -0.00477511  0.9998402   0.44377333  0.52493     0.00473421  0.99944788\n",
            "   0.50379801  0.70731926 -0.01560254  0.99377483  0.4422403   0.69175822\n",
            "   0.0862232   0.93140066  0.50084424  0.89269215  0.11960312  0.98756242\n",
            "   0.46073398  0.84588307  0.31499392  0.94797701]]\n",
            "[[[ 0.45040244  0.12683667 -0.23346505  0.9998793   0.51102424\n",
            "    0.21840112 -0.1827494   0.9999959   0.4352371   0.22252528\n",
            "    0.04713761  0.9993353   0.5263361   0.37399122 -0.1789006\n",
            "    0.99761885  0.4304196   0.3691553   0.12900609  0.13864078\n",
            "    0.5201642   0.5150985  -0.22828415  0.9930092   0.41074777\n",
            "    0.48362523  0.03764508  0.32151592  0.49532166  0.51375496\n",
            "   -0.07478383  0.9998653   0.44875723  0.51041967  0.07488959\n",
            "    0.9993735   0.50171477  0.70833474 -0.10873123  0.9912733\n",
            "    0.44832665  0.68976635  0.1750383   0.8852622   0.5004591\n",
            "    0.90495574 -0.02245915  0.98526186  0.45790726  0.8445199\n",
            "    0.37922615  0.9276662 ]\n",
            "  [ 0.45234817  0.12724455 -0.22908473  0.9998879   0.51164514\n",
            "    0.22065619 -0.15687872  0.99999607  0.42641583  0.23296642\n",
            "    0.04008861  0.99937946  0.5290121   0.37254903 -0.14996196\n",
            "    0.99768454  0.4249274   0.3737083   0.11118631  0.17211299\n",
            "    0.52345663  0.51262856 -0.21715395  0.9932023   0.40776062\n",
            "    0.4843697   0.02090309  0.3641425   0.49607903  0.5144198\n",
            "   -0.06913358  0.99986875  0.4477808   0.51185995  0.06927744\n",
            "    0.9993963   0.5025917   0.7084492  -0.10712514  0.9917569\n",
            "    0.44806784  0.6898686   0.17023489  0.8884173   0.50037086\n",
            "    0.905111   -0.02272543  0.985028    0.45786697  0.844626\n",
            "    0.37369233  0.92849636]\n",
            "  [ 0.45275927  0.12757553 -0.23028342  0.99989665  0.51178044\n",
            "    0.2227227  -0.14453991  0.99999624  0.4207614   0.23823558\n",
            "    0.03008353  0.99942404  0.5302978   0.37143484 -0.13466524\n",
            "    0.9977164   0.4198219   0.37922037  0.09586217  0.20831767\n",
            "    0.525054    0.51090366 -0.21028748  0.99323535  0.40671554\n",
            "    0.4869698   0.00570241  0.4047473   0.49609447  0.51442885\n",
            "   -0.06425434  0.9998736   0.445702    0.5124891   0.06439461\n",
            "    0.9994217   0.5033654   0.7079257  -0.10654537  0.99222004\n",
            "    0.44729647  0.6900484   0.163645    0.8943159   0.5003529\n",
            "    0.9045643  -0.02847382  0.98537004  0.4577436   0.8447017\n",
            "    0.37032926  0.9308901 ]\n",
            "  [ 0.45334148  0.12770478 -0.23461244  0.99990445  0.5117541\n",
            "    0.22404836 -0.13335893  0.99999636  0.4152588   0.24299458\n",
            "    0.00931617  0.99947     0.53131735  0.36905217 -0.11676717\n",
            "    0.997635    0.41507936  0.38359624  0.07142617  0.25719965\n",
            "    0.5265822   0.5063403  -0.20485792  0.9927893   0.404143\n",
            "    0.48880157 -0.02241907  0.4485817   0.49653274  0.51459527\n",
            "   -0.0585558   0.99987674  0.44391125  0.51513225  0.05872117\n",
            "    0.9994392   0.5040207   0.7080426  -0.10385178  0.99273574\n",
            "    0.44683844  0.6921285   0.17299607  0.9000723   0.5002974\n",
            "    0.9045898  -0.03105254  0.98583966  0.45818758  0.84499764\n",
            "    0.3850159   0.93269306]\n",
            "  [ 0.4536879   0.1294443  -0.2634436   0.9999116   0.51219773\n",
            "    0.22583172 -0.14462017  0.9999964   0.41328582  0.2455093\n",
            "   -0.02756226  0.9995127   0.5328149   0.3681726  -0.11906491\n",
            "    0.9975246   0.4125988   0.38540977  0.03530119  0.30819133\n",
            "    0.5304278   0.49979538 -0.20690446  0.9921288   0.40364647\n",
            "    0.49235195 -0.05419235  0.48843133  0.4978265   0.5140634\n",
            "   -0.05333973  0.9998751   0.4436471   0.51542246  0.05348333\n",
            "    0.99944335  0.5043589   0.7060052  -0.09500555  0.993006\n",
            "    0.44619864  0.6921107   0.16126461  0.90380967  0.50028116\n",
            "    0.90424305 -0.02691673  0.9858434   0.45889908  0.845018\n",
            "    0.3585411   0.93294924]\n",
            "  [ 0.4551273   0.1312485  -0.28711826  0.9999176   0.5124018\n",
            "    0.22743149 -0.15393701  0.9999962   0.41224083  0.24835716\n",
            "   -0.05468144  0.9995488   0.53402984  0.36810035 -0.11546703\n",
            "    0.99732536  0.4102467   0.38853475  0.00860445  0.35384637\n",
            "    0.5327491   0.49794766 -0.19220175  0.9910068   0.40231094\n",
            "    0.4996947  -0.07877289  0.5204034   0.49875236  0.5164357\n",
            "   -0.04882795  0.9998673   0.44356975  0.5197948   0.04898651\n",
            "    0.9994313   0.50426626  0.7062272  -0.0666886   0.9934047\n",
            "    0.44514698  0.69207543  0.16579202  0.9081389   0.5000216\n",
            "    0.903037    0.01053426  0.9859725   0.45904046  0.8458186\n",
            "    0.36812052  0.9344276 ]\n",
            "  [ 0.45513567  0.13304861 -0.3065139   0.99992204  0.51237315\n",
            "    0.22784434 -0.15482116  0.99999565  0.410955    0.2476624\n",
            "   -0.07601527  0.9995827   0.53421724  0.36622044 -0.11306409\n",
            "    0.9969542   0.40784723  0.38782504 -0.01217947  0.3991868\n",
            "    0.5349705   0.49151358 -0.19823079  0.9896817   0.40038076\n",
            "    0.50084436 -0.10265447  0.5528553   0.49993247  0.5165959\n",
            "   -0.04058199  0.9998641   0.44364396  0.5206747   0.04069927\n",
            "    0.999437    0.5040643   0.70590186 -0.05094602  0.9938524\n",
            "    0.4430577   0.6920947   0.16350563  0.91442835  0.49995756\n",
            "    0.8985782   0.04572077  0.98667026  0.45900646  0.8459493\n",
            "    0.3762359   0.9383594 ]\n",
            "  [ 0.45491523  0.13351071 -0.31740502  0.99992514  0.5123881\n",
            "    0.22804636 -0.15361837  0.99999493  0.40976244  0.24902706\n",
            "   -0.08752491  0.9996118   0.5361849   0.36193034 -0.10894243\n",
            "    0.9965364   0.40541798  0.387561   -0.02367172  0.4426036\n",
            "    0.53830254  0.4868443  -0.2005316   0.9885855   0.39928484\n",
            "    0.5046766  -0.11385413  0.58381814  0.50168765  0.51892734\n",
            "   -0.03479131  0.9998601   0.4438137   0.52400833  0.03485345\n",
            "    0.9994418   0.5038474   0.7078189  -0.03653092  0.9941415\n",
            "    0.4421146   0.6921815   0.14458568  0.9198758   0.49994364\n",
            "    0.893526    0.1060248   0.986996    0.45906743  0.8457808\n",
            "    0.37977505  0.9413355 ]\n",
            "  [ 0.45497838  0.13442408 -0.33738467  0.9999277   0.5123242\n",
            "    0.22850922 -0.14824083  0.9999927   0.40928322  0.24971233\n",
            "   -0.12137     0.9996393   0.5371731   0.36006424 -0.08523174\n",
            "    0.9955152   0.4034279   0.3875294  -0.06225371  0.4898708\n",
            "    0.541591    0.48280653 -0.16988122  0.9867134   0.39888626\n",
            "    0.5061438  -0.1439325   0.61678934  0.5031849   0.518922\n",
            "   -0.01999754  0.9998485   0.44366854  0.52506196  0.01999512\n",
            "    0.99944144  0.50377613  0.7077744  -0.01470961  0.9940713\n",
            "    0.44150424  0.69235545  0.10776241  0.925839    0.50065607\n",
            "    0.8918795   0.13389415  0.9872518   0.4592622   0.8457924\n",
            "    0.33129862  0.94461036]\n",
            "  [ 0.45548815  0.13382363 -0.3558199   0.99992883  0.51233953\n",
            "    0.22880064 -0.14942537  0.999988    0.4093117   0.24990448\n",
            "   -0.15278861  0.99966186  0.5372125   0.3581529  -0.08254857\n",
            "    0.99340326  0.40279776  0.3885254  -0.10220989  0.5343373\n",
            "    0.5426134   0.4819199  -0.16209838  0.982928    0.39741933\n",
            "    0.5092344  -0.174404    0.644977    0.50476986  0.51851445\n",
            "   -0.00477511  0.9998402   0.44377333  0.52493     0.00473421\n",
            "    0.9994479   0.503798    0.70731926 -0.01560254  0.99377483\n",
            "    0.4422403   0.6917582   0.0862232   0.93140066  0.50084424\n",
            "    0.89269215  0.11960312  0.9875624   0.46073398  0.8458831\n",
            "    0.31499392  0.947977  ]]]\n"
          ]
        }
      ]
    },
    {
      "cell_type": "code",
      "source": [
        "def predicted(model, data_x):\n",
        "    predicted_list = []\n",
        "    for i in range(len(data_x)):\n",
        "      input_predict = 1*data_x[i]\n",
        "      input_predict_expand = input_predict[np.newaxis,...]\n",
        "      input_predict_expand = np.array(input_predict_expand,np.float32)\n",
        "      predicted_class = model.predict(input_predict_expand)\n",
        "      id = np.argmax(predicted_class)\n",
        "      if id == 0:\n",
        "        predicted_list.append([1, 0])\n",
        "      else:\n",
        "        predicted_list.append([0, 1])\n",
        "    return predicted_list\n",
        "\n"
      ],
      "metadata": {
        "id": "rdIXIxo0TA6k"
      },
      "execution_count": null,
      "outputs": []
    },
    {
      "cell_type": "markdown",
      "source": [
        "#PRECISION OF EACH CLASS"
      ],
      "metadata": {
        "id": "e51uiqEbSUo3"
      }
    },
    {
      "cell_type": "code",
      "source": [
        "predicted_list_train = np.array(predicted(model, X_train))\n",
        "predicted_list_test = np.array(predicted(model, X_test))"
      ],
      "metadata": {
        "id": "oXrTMWsNtvWa"
      },
      "execution_count": null,
      "outputs": []
    },
    {
      "cell_type": "code",
      "source": [
        "def cal_precision_class(model, data_x, data_y, predicted_list):\n",
        "    pre_list = []\n",
        "    for c in [[0, 1], [1, 0]]:\n",
        "        TP_count = 0\n",
        "        FP_count = 0\n",
        "        for i in range(len(data_y)):\n",
        "          TP_count += ((list(data_y[i]) == c) and (list(predicted_list[i]) == c)) #TP\n",
        "          FP_count += ((list(data_y[i]) != c) and (list(predicted_list[i]) == c)) #FP\n",
        "\n",
        "        pre_list.append(TP_count/(TP_count+FP_count))\n",
        "    return np.array(pre_list)"
      ],
      "metadata": {
        "id": "GN-r4z_bO18n"
      },
      "execution_count": null,
      "outputs": []
    },
    {
      "cell_type": "code",
      "source": [
        "\n",
        "# def plot_pre_class(acc_train_list, acc_test_list):\n",
        "\n",
        "#     # setup figure & axes\n",
        "#     subplot_kw=dict(xlabel='Label', ylabel='Precision (%)', ylim=(0, 100))\n",
        "#     gridspec_kw=dict(left=0, right=1, top=1, bottom=0, hspace=0.1)\n",
        "#     fig, axes = plt.subplots(nrows=1, ncols=2, subplot_kw=subplot_kw, gridspec_kw=gridspec_kw, figsize=(14, 4))\n",
        "\n",
        "#     # plot accuracies for training set\n",
        "#     axes[0].bar(np.arange(2), acc_train_list, tick_label=np.arange(2), color=COLOR_LIST)\n",
        "#     axes[0].set_title('Training Set')\n",
        "\n",
        "#     # plot accuracies for test set\n",
        "#     axes[1].bar(np.arange(2), acc_test_list, tick_label=np.arange(2), color=COLOR_LIST)\n",
        "#     axes[1].set_title('Test Set')\n",
        "\n",
        "#     fig.suptitle(\"Precision on Each Class\", y=-0.1, fontsize=14)\n",
        "\n",
        "#     plt.show()"
      ],
      "metadata": {
        "id": "N_rWPNR4t82_"
      },
      "execution_count": null,
      "outputs": []
    },
    {
      "cell_type": "code",
      "source": [
        "\n",
        "def plot_pre_class(acc_test_list):\n",
        "\n",
        "    # setup figure & axes\n",
        "    subplot_kw=dict(xlabel='Label', ylabel='Precision (%)', ylim=(0, 100))\n",
        "    gridspec_kw=dict(left=0, right=1, top=1, bottom=0, hspace=0.1)\n",
        "    fig, axes = plt.subplots(nrows=1, ncols=1, subplot_kw=subplot_kw, gridspec_kw=gridspec_kw, figsize=(5, 5))\n",
        "\n",
        "    # plot accuracies for test set\n",
        "    axes.bar(np.arange(2), acc_test_list, tick_label=np.arange(2), color=COLOR_LIST)\n",
        "    axes.set_title('Test Set')\n",
        "\n",
        "    fig.suptitle(\"Precision on Each Class\", y=-0.1, fontsize=14)\n",
        "\n",
        "    plt.show()"
      ],
      "metadata": {
        "id": "IfcWLqydJCur"
      },
      "execution_count": null,
      "outputs": []
    },
    {
      "cell_type": "code",
      "source": [
        "pre_test_list = cal_precision_class(model, X_test, y_test, predicted_list_test)*100\n",
        "plot_pre_class(pre_test_list)\n",
        "print(\"pre_test_list\", pre_test_list)"
      ],
      "metadata": {
        "id": "mxV3G7Not-mv",
        "colab": {
          "base_uri": "https://localhost:8080/",
          "height": 474
        },
        "outputId": "303219d7-7351-4f54-cb62-19f3677a5ff5"
      },
      "execution_count": null,
      "outputs": [
        {
          "output_type": "display_data",
          "data": {
            "text/plain": [
              "<Figure size 360x360 with 1 Axes>"
            ],
            "image/png": "[encoded data removed]"
          },
          "metadata": {
            "needs_background": "light"
          }
        },
        {
          "output_type": "stream",
          "name": "stdout",
          "text": [
            "pre_test_list [99.03784477 96.57878217]\n"
          ]
        }
      ]
    },
    {
      "cell_type": "code",
      "source": [
        "print(\"X_train.shape = {}\".format(X_train.shape))\n",
        "print(\"y_train.shape = {}\".format(y_train.shape))\n",
        "print(\"X_val.shape = {}\".format(X_val.shape))\n",
        "print(\"y_val.shape = {}\".format(y_val.shape))\n",
        "print(\"X_test.shape = {}\".format(X_test.shape))\n",
        "print(\"y_test.shape = {}\".format(y_test.shape))\n",
        "print(len(y_train))"
      ],
      "metadata": {
        "colab": {
          "base_uri": "https://localhost:8080/"
        },
        "id": "K1Opsnxh0cSy",
        "outputId": "533ff17b-c112-46c4-b41c-ce294f55776a"
      },
      "execution_count": null,
      "outputs": [
        {
          "output_type": "stream",
          "name": "stdout",
          "text": [
            "X_train.shape = (22064, 10, 52)\n",
            "y_train.shape = (22064, 2)\n",
            "X_val.shape = (3152, 10, 52)\n",
            "y_val.shape = (3152, 2)\n",
            "X_test.shape = (6304, 10, 52)\n",
            "y_test.shape = (6304, 2)\n",
            "22064\n"
          ]
        }
      ]
    },
    {
      "cell_type": "markdown",
      "source": [
        "# RECALL OF EACH CLASS"
      ],
      "metadata": {
        "id": "OZ_6JDR9Mdwe"
      }
    },
    {
      "cell_type": "code",
      "source": [
        "def cal_recall_class(model, data_x, data_y, predicted_list):\n",
        "    re_list = []\n",
        "    for c in [[0, 1], [1, 0]]:\n",
        "        TP_count = 0\n",
        "        FN_count = 0\n",
        "        for i in range(len(data_y)):\n",
        "          TP_count += ((list(data_y[i]) == c) and (list(predicted_list[i]) == c)) #TP\n",
        "          FN_count += ((list(data_y[i]) == c) and (list(predicted_list[i]) != c))     #FN\n",
        "        re_list.append(TP_count/(TP_count+FN_count))\n",
        "    return np.array(re_list)"
      ],
      "metadata": {
        "id": "a43fljxquLhv"
      },
      "execution_count": null,
      "outputs": []
    },
    {
      "cell_type": "code",
      "source": [
        "def plot_re_class( acc_test_list):\n",
        "\n",
        "    # setup figure & axes\n",
        "    subplot_kw=dict(xlabel='Label', ylabel='Recall (%)', ylim=(0, 100))\n",
        "    gridspec_kw=dict(left=0, right=1, top=1, bottom=0, hspace=0.1)\n",
        "    fig, axes = plt.subplots(nrows=1, ncols=1, subplot_kw=subplot_kw, gridspec_kw=gridspec_kw, figsize=(5, 5))\n",
        "\n",
        "    NUM_CLASS = 2\n",
        "    # plot Recall for test set\n",
        "    axes.bar(np.arange(NUM_CLASS), acc_test_list, tick_label=np.arange(NUM_CLASS), color=COLOR_LIST)\n",
        "    axes.set_title('Test Set')\n",
        "\n",
        "    fig.suptitle(\"Recall on Each Class\", y=-0.1, fontsize=14)\n",
        "\n",
        "    plt.show()"
      ],
      "metadata": {
        "id": "xLKk6kdVMnHP"
      },
      "execution_count": null,
      "outputs": []
    },
    {
      "cell_type": "code",
      "source": [
        "re_test_list = cal_recall_class(model, X_test, y_test, predicted_list_test)*100\n",
        "plot_re_class(re_test_list)\n",
        "print(\"re_test_list\", re_test_list)"
      ],
      "metadata": {
        "colab": {
          "base_uri": "https://localhost:8080/",
          "height": 474
        },
        "id": "rwKFisCnMofL",
        "outputId": "cb60df15-6477-4dcf-c825-eeb6f943772f"
      },
      "execution_count": null,
      "outputs": [
        {
          "output_type": "display_data",
          "data": {
            "text/plain": [
              "<Figure size 360x360 with 1 Axes>"
            ],
            "image/png": "[encoded data removed]"
          },
          "metadata": {
            "needs_background": "light"
          }
        },
        {
          "output_type": "stream",
          "name": "stdout",
          "text": [
            "re_test_list [96.59055364 99.03443836]\n"
          ]
        }
      ]
    },
    {
      "cell_type": "markdown",
      "source": [
        "# F1 SCORE OF EACH CLASS"
      ],
      "metadata": {
        "id": "tgEng3TcRML8"
      }
    },
    {
      "cell_type": "code",
      "source": [
        "def cal_f1_score_class(model, data_x, data_y, predicted_list):\n",
        "  f1_score_list = []\n",
        "  precision_list = cal_precision_class(model, X_test, y_test, predicted_list_test)*100\n",
        "  recall_list = cal_recall_class(model, X_test, y_test, predicted_list_test)*100\n",
        "  Num_Class = 2\n",
        "  f1_score = 0\n",
        "  for i in range(Num_Class):\n",
        "    f1_score = 2*precision_list[i]*recall_list[i] / (precision_list[i]+recall_list[i])\n",
        "    f1_score_list.append(f1_score)\n",
        "  return np.array(f1_score_list)"
      ],
      "metadata": {
        "id": "noWWx5QKNvJ0"
      },
      "execution_count": null,
      "outputs": []
    },
    {
      "cell_type": "code",
      "source": [
        "def plot_f1_score_class(acc_test_list):\n",
        "\n",
        "    # setup figure & axes\n",
        "    subplot_kw=dict(xlabel='Label', ylabel='Recall (%)', ylim=(0, 100))\n",
        "    gridspec_kw=dict(left=0, right=1, top=1, bottom=0, hspace=0.1)\n",
        "    fig, axes = plt.subplots(nrows=1, ncols=1, subplot_kw=subplot_kw, gridspec_kw=gridspec_kw, figsize=(5, 5))\n",
        "\n",
        "    NUM_CLASS = 2\n",
        "    # plot Recall for test set\n",
        "    axes.bar(np.arange(NUM_CLASS), acc_test_list, tick_label=np.arange(NUM_CLASS), color=COLOR_LIST)\n",
        "    axes.set_title('Test Set')\n",
        "\n",
        "    fig.suptitle(\"F1 score on Each Class\", y=-0.1, fontsize=14)\n",
        "\n",
        "    plt.show()"
      ],
      "metadata": {
        "id": "HhCEeXLaQYX7"
      },
      "execution_count": null,
      "outputs": []
    },
    {
      "cell_type": "code",
      "source": [
        "f1_score_test_list = cal_f1_score_class(model, X_test, y_test, predicted_list_test)\n",
        "plot_f1_score_class(f1_score_test_list)\n",
        "print(\"f1_score_test_list\", f1_score_test_list)"
      ],
      "metadata": {
        "colab": {
          "base_uri": "https://localhost:8080/",
          "height": 474
        },
        "id": "5gJ-pDinQ3Rj",
        "outputId": "029e7205-403a-433e-ccd6-5dd02e957ac4"
      },
      "execution_count": null,
      "outputs": [
        {
          "output_type": "display_data",
          "data": {
            "text/plain": [
              "<Figure size 360x360 with 1 Axes>"
            ],
            "image/png": "[encoded data removed]"
          },
          "metadata": {
            "needs_background": "light"
          }
        },
        {
          "output_type": "stream",
          "name": "stdout",
          "text": [
            "f1_score_test_list [97.79889153 97.79119657]\n"
          ]
        }
      ]
    },
    {
      "cell_type": "code",
      "source": [
        "a = [5, 7, 8, 10, 6, 12]\n",
        "print(max(a))"
      ],
      "metadata": {
        "id": "sRVz7Yb1RBqR",
        "colab": {
          "base_uri": "https://localhost:8080/"
        },
        "outputId": "3f44a8ee-b271-457f-fa77-807670027028"
      },
      "execution_count": null,
      "outputs": [
        {
          "output_type": "stream",
          "name": "stdout",
          "text": [
            "12\n"
          ]
        }
      ]
    },
    {
      "cell_type": "code",
      "source": [
        "for j in range(, len(a)):\n",
        "  print(a[j])"
      ],
      "metadata": {
        "colab": {
          "base_uri": "https://localhost:8080/"
        },
        "id": "flh7VnOeWX07",
        "outputId": "f024ef1f-fa90-48d1-db19-6e72ec204377"
      },
      "execution_count": null,
      "outputs": [
        {
          "output_type": "stream",
          "name": "stdout",
          "text": [
            "10\n",
            "6\n",
            "12\n"
          ]
        }
      ]
    },
    {
      "cell_type": "code",
      "source": [],
      "metadata": {
        "id": "A3jqSX_0eOVb"
      },
      "execution_count": null,
      "outputs": []
    }
  ],
  "metadata": {
    "accelerator": "GPU",
    "colab": {
      "provenance": []
    },
    "kernelspec": {
      "display_name": "Python 3",
      "name": "python3"
    },
    "language_info": {
      "name": "python"
    }
  },
  "nbformat": 4,
  "nbformat_minor": 0
}